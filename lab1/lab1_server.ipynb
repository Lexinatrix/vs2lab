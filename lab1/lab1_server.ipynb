{
 "cells": [
  {
   "cell_type": "markdown",
   "id": "1b6e54b6-e93f-42fe-b1df-4f431e8d87a0",
   "metadata": {},
   "source": [
    "Aufgabe 1 Server\n",
    "\n",
    "Telefonauskunftsdienst\n",
    "\n",
    "Lennart Ruck, Charlotte Mohr, Tim Schröder\n",
    "\n",
    "Importiere Skript und erstelle Serverobjektript"
   ]
  },
  {
   "cell_type": "code",
   "execution_count": 1,
   "id": "d0e38bdc-3526-4d70-a789-0ad056f9b70c",
   "metadata": {},
   "outputs": [
    {
     "name": "stderr",
     "output_type": "stream",
     "text": [
      "2023-11-02 14:09:22,662 - vs2lab.lab1.clientserver.Server - INFO - Server bound to socket <socket.socket fd=55, family=2, type=1, proto=0, laddr=('127.0.0.1', 50007)>\n"
     ]
    }
   ],
   "source": [
    "import clientserver\n",
    "\n",
    "server = clientserver.Server()"
   ]
  },
  {
   "cell_type": "code",
   "execution_count": 2,
   "id": "977a469a-a489-4cf3-8577-da722a4efdb5",
   "metadata": {},
   "outputs": [
    {
     "name": "stderr",
     "output_type": "stream",
     "text": [
      "2023-11-02 14:09:32,946 - vs2lab.lab1.clientserver.Server - INFO - Received message: GET:Lennart\n",
      "2023-11-02 14:09:32,949 - vs2lab.lab1.clientserver.Server - INFO - Sending message: +49 1234 987654\n",
      "2023-11-02 14:09:32,978 - vs2lab.lab1.clientserver.Server - INFO - Received message: GET:Charlotte\n",
      "2023-11-02 14:09:32,981 - vs2lab.lab1.clientserver.Server - INFO - Sending message: +49 5555 01723\n",
      "2023-11-02 14:09:33,017 - vs2lab.lab1.clientserver.Server - INFO - Received message: GET:Tim\n",
      "2023-11-02 14:09:33,021 - vs2lab.lab1.clientserver.Server - INFO - Sending message: +49 9182 736455\n",
      "2023-11-02 14:09:33,050 - vs2lab.lab1.clientserver.Server - INFO - Received message: GET:Telemarketing AG\n",
      "2023-11-02 14:09:33,054 - vs2lab.lab1.clientserver.Server - INFO - Sending message: 0 800 800 3\n",
      "2023-11-02 14:09:33,086 - vs2lab.lab1.clientserver.Server - INFO - Received message: GET:ABCD\n",
      "2023-11-02 14:09:33,090 - vs2lab.lab1.clientserver.Server - INFO - Sending message: Entry with given name not found.\n",
      "2023-11-02 14:09:33,121 - vs2lab.lab1.clientserver.Server - INFO - Received message: GETALL\n",
      "2023-11-02 14:09:33,123 - vs2lab.lab1.clientserver.Server - INFO - Sending message: {'Lennart': '+49 1234 987654', 'Charlotte': '+49 5555 01723', 'Tim': '+49 9182 736455', 'Telemarketing AG': '0 800 800 3'}\n"
     ]
    },
    {
     "ename": "KeyboardInterrupt",
     "evalue": "",
     "output_type": "error",
     "traceback": [
      "\u001b[0;31m---------------------------------------------------------------------------\u001b[0m",
      "\u001b[0;31mKeyboardInterrupt\u001b[0m                         Traceback (most recent call last)",
      "Cell \u001b[0;32mIn[2], line 1\u001b[0m\n\u001b[0;32m----> 1\u001b[0m \u001b[43mserver\u001b[49m\u001b[38;5;241;43m.\u001b[39;49m\u001b[43mserve\u001b[49m\u001b[43m(\u001b[49m\u001b[43m)\u001b[49m\n",
      "File \u001b[0;32m/workspaces/vs2lab/lab1/clientserver.py:39\u001b[0m, in \u001b[0;36mServer.serve\u001b[0;34m(self)\u001b[0m\n\u001b[1;32m     36\u001b[0m \u001b[38;5;28;01mwhile\u001b[39;00m \u001b[38;5;28mself\u001b[39m\u001b[38;5;241m.\u001b[39m_serving:  \u001b[38;5;66;03m# as long as _serving (checked after connections or socket timeouts)\u001b[39;00m\n\u001b[1;32m     37\u001b[0m     \u001b[38;5;28;01mtry\u001b[39;00m:\n\u001b[1;32m     38\u001b[0m         \u001b[38;5;66;03m# pylint: disable=unused-variable\u001b[39;00m\n\u001b[0;32m---> 39\u001b[0m         (connection, address) \u001b[38;5;241m=\u001b[39m \u001b[38;5;28;43mself\u001b[39;49m\u001b[38;5;241;43m.\u001b[39;49m\u001b[43msock\u001b[49m\u001b[38;5;241;43m.\u001b[39;49m\u001b[43maccept\u001b[49m\u001b[43m(\u001b[49m\u001b[43m)\u001b[49m  \u001b[38;5;66;03m# returns new socket and address of client\u001b[39;00m\n\u001b[1;32m     41\u001b[0m         \u001b[38;5;28;01mwhile\u001b[39;00m \u001b[38;5;28;01mTrue\u001b[39;00m:  \u001b[38;5;66;03m# forever\u001b[39;00m\n\u001b[1;32m     42\u001b[0m             data \u001b[38;5;241m=\u001b[39m connection\u001b[38;5;241m.\u001b[39mrecv(\u001b[38;5;241m1024\u001b[39m)  \u001b[38;5;66;03m# receive data from client\u001b[39;00m\n",
      "File \u001b[0;32m/usr/local/lib/python3.11/socket.py:294\u001b[0m, in \u001b[0;36msocket.accept\u001b[0;34m(self)\u001b[0m\n\u001b[1;32m    287\u001b[0m \u001b[38;5;28;01mdef\u001b[39;00m \u001b[38;5;21maccept\u001b[39m(\u001b[38;5;28mself\u001b[39m):\n\u001b[1;32m    288\u001b[0m \u001b[38;5;250m    \u001b[39m\u001b[38;5;124;03m\"\"\"accept() -> (socket object, address info)\u001b[39;00m\n\u001b[1;32m    289\u001b[0m \n\u001b[1;32m    290\u001b[0m \u001b[38;5;124;03m    Wait for an incoming connection.  Return a new socket\u001b[39;00m\n\u001b[1;32m    291\u001b[0m \u001b[38;5;124;03m    representing the connection, and the address of the client.\u001b[39;00m\n\u001b[1;32m    292\u001b[0m \u001b[38;5;124;03m    For IP sockets, the address info is a pair (hostaddr, port).\u001b[39;00m\n\u001b[1;32m    293\u001b[0m \u001b[38;5;124;03m    \"\"\"\u001b[39;00m\n\u001b[0;32m--> 294\u001b[0m     fd, addr \u001b[38;5;241m=\u001b[39m \u001b[38;5;28;43mself\u001b[39;49m\u001b[38;5;241;43m.\u001b[39;49m\u001b[43m_accept\u001b[49m\u001b[43m(\u001b[49m\u001b[43m)\u001b[49m\n\u001b[1;32m    295\u001b[0m     sock \u001b[38;5;241m=\u001b[39m socket(\u001b[38;5;28mself\u001b[39m\u001b[38;5;241m.\u001b[39mfamily, \u001b[38;5;28mself\u001b[39m\u001b[38;5;241m.\u001b[39mtype, \u001b[38;5;28mself\u001b[39m\u001b[38;5;241m.\u001b[39mproto, fileno\u001b[38;5;241m=\u001b[39mfd)\n\u001b[1;32m    296\u001b[0m     \u001b[38;5;66;03m# Issue #7995: if no default timeout is set and the listening\u001b[39;00m\n\u001b[1;32m    297\u001b[0m     \u001b[38;5;66;03m# socket had a (non-zero) timeout, force the new socket in blocking\u001b[39;00m\n\u001b[1;32m    298\u001b[0m     \u001b[38;5;66;03m# mode to override platform-specific socket flags inheritance.\u001b[39;00m\n",
      "\u001b[0;31mKeyboardInterrupt\u001b[0m: "
     ]
    }
   ],
   "source": [
    "server.serve()"
   ]
  }
 ],
 "metadata": {
  "kernelspec": {
   "display_name": "Python 3 (ipykernel)",
   "language": "python",
   "name": "python3"
  },
  "language_info": {
   "codemirror_mode": {
    "name": "ipython",
    "version": 3
   },
   "file_extension": ".py",
   "mimetype": "text/x-python",
   "name": "python",
   "nbconvert_exporter": "python",
   "pygments_lexer": "ipython3",
   "version": "3.11.4"
  }
 },
 "nbformat": 4,
 "nbformat_minor": 5
}
