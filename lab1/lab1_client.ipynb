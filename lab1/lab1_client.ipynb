{
 "cells": [
  {
   "cell_type": "markdown",
   "id": "24ed0b3d-924f-45e0-8e6b-713ad9a9bffe",
   "metadata": {},
   "source": [
    "Aufgabe 1 Client\n",
    "\n",
    "Telefonauskunftsdienst\n",
    "\n",
    "Lennart Ruck, Charlotte Mohr, Tim Schröder\n",
    "\n",
    "Importiere Skript"
   ]
  },
  {
   "cell_type": "code",
   "execution_count": 1,
   "id": "f91f39f6-1da4-4041-9b3e-b3cc456d698c",
   "metadata": {},
   "outputs": [],
   "source": [
    "import clientserver"
   ]
  },
  {
   "cell_type": "markdown",
   "id": "f8904718-0201-4fe6-847a-fd368d9f750f",
   "metadata": {},
   "source": [
    "Erstelle Client"
   ]
  },
  {
   "cell_type": "code",
   "execution_count": 2,
   "id": "01ee2e12-0b13-476b-b2fd-15a6939ec676",
   "metadata": {},
   "outputs": [
    {
     "name": "stderr",
     "output_type": "stream",
     "text": [
      "2023-11-02 14:09:32,929 - vs2lab.a1_layers.clientserver.Client - INFO - Client connected to socket <socket.socket fd=55, family=2, type=1, proto=0, laddr=('127.0.0.1', 60942), raddr=('127.0.0.1', 50007)>\n"
     ]
    }
   ],
   "source": [
    "client = clientserver.Client()"
   ]
  },
  {
   "cell_type": "markdown",
   "id": "7ec3b037-8a0b-48e7-8973-d945d42ee28f",
   "metadata": {},
   "source": [
    "Lese Telefonnummer von Lennart aus"
   ]
  },
  {
   "cell_type": "code",
   "execution_count": 3,
   "id": "44d79c83-b4d0-4532-831a-060569e9524b",
   "metadata": {},
   "outputs": [
    {
     "name": "stderr",
     "output_type": "stream",
     "text": [
      "2023-11-02 14:09:32,942 - vs2lab.a1_layers.clientserver.Client - INFO - Sending message: GET:Lennart\n",
      "2023-11-02 14:09:32,952 - vs2lab.a1_layers.clientserver.Client - INFO - Received message: +49 1234 987654\n"
     ]
    },
    {
     "data": {
      "text/plain": [
       "'+49 1234 987654'"
      ]
     },
     "execution_count": 3,
     "metadata": {},
     "output_type": "execute_result"
    }
   ],
   "source": [
    "client.get(\"Lennart\")"
   ]
  },
  {
   "cell_type": "code",
   "execution_count": 4,
   "id": "ba42ce98-8890-4d3d-94d8-97cfe09672c1",
   "metadata": {},
   "outputs": [
    {
     "name": "stderr",
     "output_type": "stream",
     "text": [
      "2023-11-02 14:09:32,974 - vs2lab.a1_layers.clientserver.Client - INFO - Sending message: GET:Charlotte\n",
      "2023-11-02 14:09:32,985 - vs2lab.a1_layers.clientserver.Client - INFO - Received message: +49 5555 01723\n"
     ]
    },
    {
     "data": {
      "text/plain": [
       "'+49 5555 01723'"
      ]
     },
     "execution_count": 4,
     "metadata": {},
     "output_type": "execute_result"
    }
   ],
   "source": [
    "client.get(\"Charlotte\")"
   ]
  },
  {
   "cell_type": "code",
   "execution_count": 5,
   "id": "9e258686-7ef4-416f-84bf-855a0d64b580",
   "metadata": {},
   "outputs": [
    {
     "name": "stderr",
     "output_type": "stream",
     "text": [
      "2023-11-02 14:09:33,011 - vs2lab.a1_layers.clientserver.Client - INFO - Sending message: GET:Tim\n",
      "2023-11-02 14:09:33,026 - vs2lab.a1_layers.clientserver.Client - INFO - Received message: +49 9182 736455\n"
     ]
    },
    {
     "data": {
      "text/plain": [
       "'+49 9182 736455'"
      ]
     },
     "execution_count": 5,
     "metadata": {},
     "output_type": "execute_result"
    }
   ],
   "source": [
    "client.get(\"Tim\")"
   ]
  },
  {
   "cell_type": "code",
   "execution_count": 6,
   "id": "c1f790c5-7ee0-45a6-9cf0-b5e745695b69",
   "metadata": {},
   "outputs": [
    {
     "name": "stderr",
     "output_type": "stream",
     "text": [
      "2023-11-02 14:09:33,046 - vs2lab.a1_layers.clientserver.Client - INFO - Sending message: GET:Telemarketing AG\n",
      "2023-11-02 14:09:33,059 - vs2lab.a1_layers.clientserver.Client - INFO - Received message: 0 800 800 3\n"
     ]
    },
    {
     "data": {
      "text/plain": [
       "'0 800 800 3'"
      ]
     },
     "execution_count": 6,
     "metadata": {},
     "output_type": "execute_result"
    }
   ],
   "source": [
    "client.get(\"Telemarketing AG\")"
   ]
  },
  {
   "cell_type": "markdown",
   "id": "510a6efc-b57b-44cb-8b86-a037e3f14cbe",
   "metadata": {},
   "source": [
    "Lese Telefonnummer von einer Person die nicht im Telefonbuch steht"
   ]
  },
  {
   "cell_type": "code",
   "execution_count": 7,
   "id": "107a7116-db51-422a-9ffd-7d0a859d9a71",
   "metadata": {},
   "outputs": [
    {
     "name": "stderr",
     "output_type": "stream",
     "text": [
      "2023-11-02 14:09:33,081 - vs2lab.a1_layers.clientserver.Client - INFO - Sending message: GET:ABCD\n",
      "2023-11-02 14:09:33,094 - vs2lab.a1_layers.clientserver.Client - INFO - Received message: Entry with given name not found.\n"
     ]
    },
    {
     "data": {
      "text/plain": [
       "'Entry with given name not found.'"
      ]
     },
     "execution_count": 7,
     "metadata": {},
     "output_type": "execute_result"
    }
   ],
   "source": [
    "client.get(\"ABCD\")"
   ]
  },
  {
   "cell_type": "markdown",
   "id": "6cbf6be1-6b31-4370-a43b-9ce31149c35f",
   "metadata": {},
   "source": [
    "Lese das ganze Telefonbuch"
   ]
  },
  {
   "cell_type": "code",
   "execution_count": 8,
   "id": "f6e3ffb7-1ad0-4491-b3ac-420fbbb2ddff",
   "metadata": {},
   "outputs": [
    {
     "name": "stderr",
     "output_type": "stream",
     "text": [
      "2023-11-02 14:09:33,116 - vs2lab.a1_layers.clientserver.Client - INFO - Sending message: GETALL\n",
      "2023-11-02 14:09:33,127 - vs2lab.a1_layers.clientserver.Client - INFO - Received message: {'Lennart': '+49 1234 987654', 'Charlotte': '+49 5555 01723', 'Tim': '+49 9182 736455', 'Telemarketing AG': '0 800 800 3'}\n"
     ]
    },
    {
     "data": {
      "text/plain": [
       "\"{'Lennart': '+49 1234 987654', 'Charlotte': '+49 5555 01723', 'Tim': '+49 9182 736455', 'Telemarketing AG': '0 800 800 3'}\""
      ]
     },
     "execution_count": 8,
     "metadata": {},
     "output_type": "execute_result"
    }
   ],
   "source": [
    "client.get_all()"
   ]
  },
  {
   "cell_type": "markdown",
   "id": "f947ec41-54c9-4073-b8d9-c3370e2ab672",
   "metadata": {},
   "source": [
    "Schliesse Verbindung"
   ]
  },
  {
   "cell_type": "code",
   "execution_count": 9,
   "id": "441d281b-e394-4d2d-a9f2-ea35105b4b71",
   "metadata": {},
   "outputs": [
    {
     "name": "stderr",
     "output_type": "stream",
     "text": [
      "2023-11-02 14:09:33,151 - vs2lab.a1_layers.clientserver.Client - INFO - Client down.\n"
     ]
    }
   ],
   "source": [
    "client.close()"
   ]
  }
 ],
 "metadata": {
  "kernelspec": {
   "display_name": "Python 3 (ipykernel)",
   "language": "python",
   "name": "python3"
  },
  "language_info": {
   "codemirror_mode": {
    "name": "ipython",
    "version": 3
   },
   "file_extension": ".py",
   "mimetype": "text/x-python",
   "name": "python",
   "nbconvert_exporter": "python",
   "pygments_lexer": "ipython3",
   "version": "3.11.4"
  }
 },
 "nbformat": 4,
 "nbformat_minor": 5
}
